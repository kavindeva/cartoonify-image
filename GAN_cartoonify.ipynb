{
  "nbformat": 4,
  "nbformat_minor": 0,
  "metadata": {
    "colab": {
      "provenance": []
    },
    "kernelspec": {
      "name": "python3",
      "display_name": "Python 3"
    },
    "language_info": {
      "name": "python"
    }
  },
  "cells": [
    {
      "cell_type": "code",
      "execution_count": 1,
      "metadata": {
        "colab": {
          "base_uri": "https://localhost:8080/"
        },
        "id": "CGvItthIJ0JK",
        "outputId": "6d65b823-06bc-4b43-89ee-f62c0a769706"
      },
      "outputs": [
        {
          "output_type": "stream",
          "name": "stdout",
          "text": [
            "2.9.2\n"
          ]
        }
      ],
      "source": [
        "import tensorflow as tf\n",
        "print(tf.__version__)"
      ]
    },
    {
      "cell_type": "code",
      "source": [
        "# Uninstall tensorflow latest version\n",
        "!pip uninstall tensorflow"
      ],
      "metadata": {
        "colab": {
          "base_uri": "https://localhost:8080/"
        },
        "id": "osCn7WFDKAbK",
        "outputId": "6815a7ed-c4e6-4ab4-cf7f-cf3e85dce112"
      },
      "execution_count": 2,
      "outputs": [
        {
          "output_type": "stream",
          "name": "stdout",
          "text": [
            "Found existing installation: tensorflow 2.9.2\n",
            "Uninstalling tensorflow-2.9.2:\n",
            "  Would remove:\n",
            "    /usr/local/bin/estimator_ckpt_converter\n",
            "    /usr/local/bin/import_pb_to_tensorboard\n",
            "    /usr/local/bin/saved_model_cli\n",
            "    /usr/local/bin/tensorboard\n",
            "    /usr/local/bin/tf_upgrade_v2\n",
            "    /usr/local/bin/tflite_convert\n",
            "    /usr/local/bin/toco\n",
            "    /usr/local/bin/toco_from_protos\n",
            "    /usr/local/lib/python3.8/dist-packages/tensorflow-2.9.2.dist-info/*\n",
            "    /usr/local/lib/python3.8/dist-packages/tensorflow/*\n",
            "Proceed (y/n)? y\n",
            "  Successfully uninstalled tensorflow-2.9.2\n"
          ]
        }
      ]
    },
    {
      "cell_type": "code",
      "source": [
        "import tensorflow-gpu"
      ],
      "metadata": {
        "colab": {
          "base_uri": "https://localhost:8080/",
          "height": 130
        },
        "id": "IxIDQIsUKZxo",
        "outputId": "5dc49c49-33e2-4f4a-ff3c-e9b1b1c02dce"
      },
      "execution_count": 3,
      "outputs": [
        {
          "output_type": "error",
          "ename": "SyntaxError",
          "evalue": "ignored",
          "traceback": [
            "\u001b[0;36m  File \u001b[0;32m\"<ipython-input-3-9405d16d83c1>\"\u001b[0;36m, line \u001b[0;32m1\u001b[0m\n\u001b[0;31m    import tensorflow-gpu\u001b[0m\n\u001b[0m                     ^\u001b[0m\n\u001b[0;31mSyntaxError\u001b[0m\u001b[0;31m:\u001b[0m invalid syntax\n"
          ]
        }
      ]
    },
    {
      "cell_type": "code",
      "source": [
        "!pip install tensorflow-gpu==2.2.0"
      ],
      "metadata": {
        "colab": {
          "base_uri": "https://localhost:8080/",
          "height": 1000
        },
        "id": "7Kudz1uwKsio",
        "outputId": "44d0d30b-a9ef-468a-f105-09ca5beb4dd4"
      },
      "execution_count": 8,
      "outputs": [
        {
          "output_type": "stream",
          "name": "stdout",
          "text": [
            "Looking in indexes: https://pypi.org/simple, https://us-python.pkg.dev/colab-wheels/public/simple/\n",
            "Collecting tensorflow-gpu==2.2.0\n",
            "  Downloading tensorflow_gpu-2.2.0-cp38-cp38-manylinux2010_x86_64.whl (516.3 MB)\n",
            "\u001b[K     |████████████████████████████████| 516.3 MB 2.5 kB/s \n",
            "\u001b[?25hCollecting scipy==1.4.1\n",
            "  Downloading scipy-1.4.1-cp38-cp38-manylinux1_x86_64.whl (26.0 MB)\n",
            "\u001b[K     |████████████████████████████████| 26.0 MB 1.4 MB/s \n",
            "\u001b[?25hCollecting h5py<2.11.0,>=2.10.0\n",
            "  Downloading h5py-2.10.0-cp38-cp38-manylinux1_x86_64.whl (2.9 MB)\n",
            "\u001b[K     |████████████████████████████████| 2.9 MB 43.2 MB/s \n",
            "\u001b[?25hCollecting gast==0.3.3\n",
            "  Downloading gast-0.3.3-py2.py3-none-any.whl (9.7 kB)\n",
            "Requirement already satisfied: wrapt>=1.11.1 in /usr/local/lib/python3.8/dist-packages (from tensorflow-gpu==2.2.0) (1.14.1)\n",
            "Requirement already satisfied: keras-preprocessing>=1.1.0 in /usr/local/lib/python3.8/dist-packages (from tensorflow-gpu==2.2.0) (1.1.2)\n",
            "Requirement already satisfied: numpy<2.0,>=1.16.0 in /usr/local/lib/python3.8/dist-packages (from tensorflow-gpu==2.2.0) (1.21.6)\n",
            "Requirement already satisfied: google-pasta>=0.1.8 in /usr/local/lib/python3.8/dist-packages (from tensorflow-gpu==2.2.0) (0.2.0)\n",
            "Requirement already satisfied: astunparse==1.6.3 in /usr/local/lib/python3.8/dist-packages (from tensorflow-gpu==2.2.0) (1.6.3)\n",
            "Requirement already satisfied: termcolor>=1.1.0 in /usr/local/lib/python3.8/dist-packages (from tensorflow-gpu==2.2.0) (2.1.1)\n",
            "Requirement already satisfied: six>=1.12.0 in /usr/local/lib/python3.8/dist-packages (from tensorflow-gpu==2.2.0) (1.15.0)\n",
            "Requirement already satisfied: absl-py>=0.7.0 in /usr/local/lib/python3.8/dist-packages (from tensorflow-gpu==2.2.0) (1.3.0)\n",
            "Collecting tensorboard<2.3.0,>=2.2.0\n",
            "  Downloading tensorboard-2.2.2-py3-none-any.whl (3.0 MB)\n",
            "\u001b[K     |████████████████████████████████| 3.0 MB 36.9 MB/s \n",
            "\u001b[?25hRequirement already satisfied: wheel>=0.26 in /usr/local/lib/python3.8/dist-packages (from tensorflow-gpu==2.2.0) (0.38.4)\n",
            "Collecting tensorflow-estimator<2.3.0,>=2.2.0\n",
            "  Downloading tensorflow_estimator-2.2.0-py2.py3-none-any.whl (454 kB)\n",
            "\u001b[K     |████████████████████████████████| 454 kB 57.4 MB/s \n",
            "\u001b[?25hRequirement already satisfied: grpcio>=1.8.6 in /usr/local/lib/python3.8/dist-packages (from tensorflow-gpu==2.2.0) (1.51.1)\n",
            "Requirement already satisfied: protobuf>=3.8.0 in /usr/local/lib/python3.8/dist-packages (from tensorflow-gpu==2.2.0) (3.19.6)\n",
            "Requirement already satisfied: opt-einsum>=2.3.2 in /usr/local/lib/python3.8/dist-packages (from tensorflow-gpu==2.2.0) (3.3.0)\n",
            "Collecting google-auth<2,>=1.6.3\n",
            "  Downloading google_auth-1.35.0-py2.py3-none-any.whl (152 kB)\n",
            "\u001b[K     |████████████████████████████████| 152 kB 70.6 MB/s \n",
            "\u001b[?25hRequirement already satisfied: requests<3,>=2.21.0 in /usr/local/lib/python3.8/dist-packages (from tensorboard<2.3.0,>=2.2.0->tensorflow-gpu==2.2.0) (2.23.0)\n",
            "Requirement already satisfied: werkzeug>=0.11.15 in /usr/local/lib/python3.8/dist-packages (from tensorboard<2.3.0,>=2.2.0->tensorflow-gpu==2.2.0) (1.0.1)\n",
            "Requirement already satisfied: google-auth-oauthlib<0.5,>=0.4.1 in /usr/local/lib/python3.8/dist-packages (from tensorboard<2.3.0,>=2.2.0->tensorflow-gpu==2.2.0) (0.4.6)\n",
            "Requirement already satisfied: setuptools>=41.0.0 in /usr/local/lib/python3.8/dist-packages (from tensorboard<2.3.0,>=2.2.0->tensorflow-gpu==2.2.0) (57.4.0)\n",
            "Requirement already satisfied: tensorboard-plugin-wit>=1.6.0 in /usr/local/lib/python3.8/dist-packages (from tensorboard<2.3.0,>=2.2.0->tensorflow-gpu==2.2.0) (1.8.1)\n",
            "Requirement already satisfied: markdown>=2.6.8 in /usr/local/lib/python3.8/dist-packages (from tensorboard<2.3.0,>=2.2.0->tensorflow-gpu==2.2.0) (3.4.1)\n",
            "Requirement already satisfied: pyasn1-modules>=0.2.1 in /usr/local/lib/python3.8/dist-packages (from google-auth<2,>=1.6.3->tensorboard<2.3.0,>=2.2.0->tensorflow-gpu==2.2.0) (0.2.8)\n",
            "Collecting cachetools<5.0,>=2.0.0\n",
            "  Downloading cachetools-4.2.4-py3-none-any.whl (10 kB)\n",
            "Requirement already satisfied: rsa<5,>=3.1.4 in /usr/local/lib/python3.8/dist-packages (from google-auth<2,>=1.6.3->tensorboard<2.3.0,>=2.2.0->tensorflow-gpu==2.2.0) (4.9)\n",
            "Requirement already satisfied: requests-oauthlib>=0.7.0 in /usr/local/lib/python3.8/dist-packages (from google-auth-oauthlib<0.5,>=0.4.1->tensorboard<2.3.0,>=2.2.0->tensorflow-gpu==2.2.0) (1.3.1)\n",
            "Requirement already satisfied: importlib-metadata>=4.4 in /usr/local/lib/python3.8/dist-packages (from markdown>=2.6.8->tensorboard<2.3.0,>=2.2.0->tensorflow-gpu==2.2.0) (4.13.0)\n",
            "Requirement already satisfied: zipp>=0.5 in /usr/local/lib/python3.8/dist-packages (from importlib-metadata>=4.4->markdown>=2.6.8->tensorboard<2.3.0,>=2.2.0->tensorflow-gpu==2.2.0) (3.11.0)\n",
            "Requirement already satisfied: pyasn1<0.5.0,>=0.4.6 in /usr/local/lib/python3.8/dist-packages (from pyasn1-modules>=0.2.1->google-auth<2,>=1.6.3->tensorboard<2.3.0,>=2.2.0->tensorflow-gpu==2.2.0) (0.4.8)\n",
            "Requirement already satisfied: idna<3,>=2.5 in /usr/local/lib/python3.8/dist-packages (from requests<3,>=2.21.0->tensorboard<2.3.0,>=2.2.0->tensorflow-gpu==2.2.0) (2.10)\n",
            "Requirement already satisfied: urllib3!=1.25.0,!=1.25.1,<1.26,>=1.21.1 in /usr/local/lib/python3.8/dist-packages (from requests<3,>=2.21.0->tensorboard<2.3.0,>=2.2.0->tensorflow-gpu==2.2.0) (1.24.3)\n",
            "Requirement already satisfied: certifi>=2017.4.17 in /usr/local/lib/python3.8/dist-packages (from requests<3,>=2.21.0->tensorboard<2.3.0,>=2.2.0->tensorflow-gpu==2.2.0) (2022.9.24)\n",
            "Requirement already satisfied: chardet<4,>=3.0.2 in /usr/local/lib/python3.8/dist-packages (from requests<3,>=2.21.0->tensorboard<2.3.0,>=2.2.0->tensorflow-gpu==2.2.0) (3.0.4)\n",
            "Requirement already satisfied: oauthlib>=3.0.0 in /usr/local/lib/python3.8/dist-packages (from requests-oauthlib>=0.7.0->google-auth-oauthlib<0.5,>=0.4.1->tensorboard<2.3.0,>=2.2.0->tensorflow-gpu==2.2.0) (3.2.2)\n",
            "Installing collected packages: cachetools, google-auth, tensorflow-estimator, tensorboard, scipy, h5py, gast, tensorflow-gpu\n",
            "  Attempting uninstall: cachetools\n",
            "    Found existing installation: cachetools 5.2.0\n",
            "    Uninstalling cachetools-5.2.0:\n",
            "      Successfully uninstalled cachetools-5.2.0\n",
            "  Attempting uninstall: google-auth\n",
            "    Found existing installation: google-auth 2.15.0\n",
            "    Uninstalling google-auth-2.15.0:\n",
            "      Successfully uninstalled google-auth-2.15.0\n",
            "  Attempting uninstall: tensorflow-estimator\n",
            "    Found existing installation: tensorflow-estimator 2.9.0\n",
            "    Uninstalling tensorflow-estimator-2.9.0:\n",
            "      Successfully uninstalled tensorflow-estimator-2.9.0\n",
            "  Attempting uninstall: tensorboard\n",
            "    Found existing installation: tensorboard 2.9.1\n",
            "    Uninstalling tensorboard-2.9.1:\n",
            "      Successfully uninstalled tensorboard-2.9.1\n",
            "  Attempting uninstall: scipy\n",
            "    Found existing installation: scipy 1.7.3\n",
            "    Uninstalling scipy-1.7.3:\n",
            "      Successfully uninstalled scipy-1.7.3\n",
            "  Attempting uninstall: h5py\n",
            "    Found existing installation: h5py 3.1.0\n",
            "    Uninstalling h5py-3.1.0:\n",
            "      Successfully uninstalled h5py-3.1.0\n",
            "  Attempting uninstall: gast\n",
            "    Found existing installation: gast 0.4.0\n",
            "    Uninstalling gast-0.4.0:\n",
            "      Successfully uninstalled gast-0.4.0\n",
            "\u001b[31mERROR: pip's dependency resolver does not currently take into account all the packages that are installed. This behaviour is the source of the following dependency conflicts.\n",
            "kapre 0.3.7 requires tensorflow>=2.0.0, which is not installed.\n",
            "xarray-einstats 0.3.0 requires scipy>=1.5, but you have scipy 1.4.1 which is incompatible.\n",
            "plotnine 0.8.0 requires scipy>=1.5.0, but you have scipy 1.4.1 which is incompatible.\n",
            "jaxlib 0.3.25+cuda11.cudnn805 requires scipy>=1.5, but you have scipy 1.4.1 which is incompatible.\n",
            "jax 0.3.25 requires scipy>=1.5, but you have scipy 1.4.1 which is incompatible.\u001b[0m\n",
            "Successfully installed cachetools-4.2.4 gast-0.3.3 google-auth-1.35.0 h5py-2.10.0 scipy-1.4.1 tensorboard-2.2.2 tensorflow-estimator-2.2.0 tensorflow-gpu-2.2.0\n"
          ]
        },
        {
          "output_type": "display_data",
          "data": {
            "application/vnd.colab-display-data+json": {
              "pip_warning": {
                "packages": [
                  "gast",
                  "google",
                  "h5py",
                  "scipy",
                  "tensorboard",
                  "tensorflow"
                ]
              }
            }
          },
          "metadata": {}
        }
      ]
    },
    {
      "cell_type": "code",
      "source": [
        "!apt install --allow-change-held-packages libcudnn7=7.4.1.5-1+cuda10.0"
      ],
      "metadata": {
        "colab": {
          "base_uri": "https://localhost:8080/"
        },
        "id": "VLkiJkAbKwmo",
        "outputId": "45dd3e81-2367-4dad-bea1-1176c5daf839"
      },
      "execution_count": 9,
      "outputs": [
        {
          "output_type": "stream",
          "name": "stdout",
          "text": [
            "Reading package lists... Done\n",
            "Building dependency tree       \n",
            "Reading state information... Done\n",
            "The following package was automatically installed and is no longer required:\n",
            "  libnvidia-common-460\n",
            "Use 'apt autoremove' to remove it.\n",
            "The following NEW packages will be installed:\n",
            "  libcudnn7\n",
            "0 upgraded, 1 newly installed, 0 to remove and 20 not upgraded.\n",
            "Need to get 149 MB of archives.\n",
            "After this operation, 348 MB of additional disk space will be used.\n",
            "Get:1 https://developer.download.nvidia.com/compute/machine-learning/repos/ubuntu1804/x86_64  libcudnn7 7.4.1.5-1+cuda10.0 [149 MB]\n",
            "Fetched 149 MB in 3s (50.3 MB/s)\n",
            "Selecting previously unselected package libcudnn7.\n",
            "(Reading database ... 124013 files and directories currently installed.)\n",
            "Preparing to unpack .../libcudnn7_7.4.1.5-1+cuda10.0_amd64.deb ...\n",
            "Unpacking libcudnn7 (7.4.1.5-1+cuda10.0) ...\n",
            "Setting up libcudnn7 (7.4.1.5-1+cuda10.0) ...\n",
            "Processing triggers for libc-bin (2.27-3ubuntu1.6) ...\n"
          ]
        }
      ]
    },
    {
      "cell_type": "code",
      "source": [
        "!apt list -a libcudnn7"
      ],
      "metadata": {
        "colab": {
          "base_uri": "https://localhost:8080/"
        },
        "id": "mj-Md8-1MdaJ",
        "outputId": "f7c23108-c088-4656-db61-d89aa8edbd19"
      },
      "execution_count": 10,
      "outputs": [
        {
          "output_type": "stream",
          "name": "stdout",
          "text": [
            "\rListing... 0%\r\rListing... 0%\r\rListing... 0%\r\rListing... Done\r\n",
            "\u001b[32mlibcudnn7\u001b[0m/unknown 7.6.5.32-1+cuda10.2 amd64 [upgradable from: 7.4.1.5-1+cuda10.0]\n",
            "\u001b[32mlibcudnn7\u001b[0m/unknown 7.6.5.32-1+cuda10.1 amd64\n",
            "\u001b[32mlibcudnn7\u001b[0m/unknown 7.6.5.32-1+cuda10.0 amd64\n",
            "\u001b[32mlibcudnn7\u001b[0m/unknown 7.6.4.38-1+cuda10.1 amd64\n",
            "\u001b[32mlibcudnn7\u001b[0m/unknown 7.6.4.38-1+cuda10.0 amd64\n",
            "\u001b[32mlibcudnn7\u001b[0m/unknown 7.6.3.30-1+cuda10.1 amd64\n",
            "\u001b[32mlibcudnn7\u001b[0m/unknown 7.6.3.30-1+cuda10.0 amd64\n",
            "\u001b[32mlibcudnn7\u001b[0m/unknown 7.6.2.24-1+cuda10.1 amd64\n",
            "\u001b[32mlibcudnn7\u001b[0m/unknown 7.6.2.24-1+cuda10.0 amd64\n",
            "\u001b[32mlibcudnn7\u001b[0m/unknown 7.6.1.34-1+cuda10.1 amd64\n",
            "\u001b[32mlibcudnn7\u001b[0m/unknown 7.6.1.34-1+cuda10.0 amd64\n",
            "\u001b[32mlibcudnn7\u001b[0m/unknown 7.6.0.64-1+cuda10.1 amd64\n",
            "\u001b[32mlibcudnn7\u001b[0m/unknown 7.6.0.64-1+cuda10.0 amd64\n",
            "\u001b[32mlibcudnn7\u001b[0m/unknown 7.5.1.10-1+cuda10.1 amd64\n",
            "\u001b[32mlibcudnn7\u001b[0m/unknown 7.5.1.10-1+cuda10.0 amd64\n",
            "\u001b[32mlibcudnn7\u001b[0m/unknown 7.5.0.56-1+cuda10.1 amd64\n",
            "\u001b[32mlibcudnn7\u001b[0m/unknown 7.5.0.56-1+cuda10.0 amd64\n",
            "\u001b[32mlibcudnn7\u001b[0m/unknown 7.4.2.24-1+cuda10.0 amd64\n",
            "\u001b[32mlibcudnn7\u001b[0m/unknown,now 7.4.1.5-1+cuda10.0 amd64 [installed,upgradable to: 7.6.5.32-1+cuda10.2]\n",
            "\u001b[32mlibcudnn7\u001b[0m/unknown 7.3.1.20-1+cuda10.0 amd64\n",
            "\u001b[32mlibcudnn7\u001b[0m/unknown 7.3.0.29-1+cuda10.0 amd64\n",
            "\n"
          ]
        }
      ]
    },
    {
      "cell_type": "code",
      "source": [
        "!git clone https://github.com/justinpinkney/stylegan2"
      ],
      "metadata": {
        "colab": {
          "base_uri": "https://localhost:8080/"
        },
        "id": "3RXjPn7bMzKZ",
        "outputId": "700fc809-143b-450d-fd98-b365a9c27780"
      },
      "execution_count": 11,
      "outputs": [
        {
          "output_type": "stream",
          "name": "stdout",
          "text": [
            "Cloning into 'stylegan2'...\n",
            "remote: Enumerating objects: 269, done.\u001b[K\n",
            "remote: Total 269 (delta 0), reused 0 (delta 0), pack-reused 269\u001b[K\n",
            "Receiving objects: 100% (269/269), 2.32 MiB | 13.11 MiB/s, done.\n",
            "Resolving deltas: 100% (141/141), done.\n"
          ]
        }
      ]
    },
    {
      "cell_type": "code",
      "source": [
        "cd stylegan2/"
      ],
      "metadata": {
        "colab": {
          "base_uri": "https://localhost:8080/"
        },
        "id": "vPkJC23XM89J",
        "outputId": "4662b539-336b-464b-ae95-6c7f3c2259de"
      },
      "execution_count": 12,
      "outputs": [
        {
          "output_type": "stream",
          "name": "stdout",
          "text": [
            "/content/stylegan2\n"
          ]
        }
      ]
    },
    {
      "cell_type": "code",
      "source": [
        "!nvcc test_nvcc.cu -o test_nvcc -run"
      ],
      "metadata": {
        "colab": {
          "base_uri": "https://localhost:8080/"
        },
        "id": "yxB3Fn-3NF7Z",
        "outputId": "e35c1305-3883-4a87-f3e7-d88c895cb419"
      },
      "execution_count": 13,
      "outputs": [
        {
          "output_type": "stream",
          "name": "stdout",
          "text": [
            "CPU says hello.\n",
            "cudaErrorNoDevice: no CUDA-capable device is detected\n"
          ]
        }
      ]
    },
    {
      "cell_type": "code",
      "source": [
        "!apt-get update;"
      ],
      "metadata": {
        "colab": {
          "base_uri": "https://localhost:8080/"
        },
        "id": "BORcy2UHNJJ5",
        "outputId": "bfc2a25f-37b3-49fb-ed46-850d56d16cb3"
      },
      "execution_count": 14,
      "outputs": [
        {
          "output_type": "stream",
          "name": "stdout",
          "text": [
            "\r0% [Working]\r            \rIgn:1 https://developer.download.nvidia.com/compute/machine-learning/repos/ubuntu1804/x86_64  InRelease\n",
            "Get:2 https://developer.download.nvidia.com/compute/cuda/repos/ubuntu1804/x86_64  InRelease [1,581 B]\n",
            "Get:3 https://cloud.r-project.org/bin/linux/ubuntu bionic-cran40/ InRelease [3,626 B]\n",
            "Hit:4 https://developer.download.nvidia.com/compute/machine-learning/repos/ubuntu1804/x86_64  Release\n",
            "Get:5 http://security.ubuntu.com/ubuntu bionic-security InRelease [88.7 kB]\n",
            "Hit:6 http://archive.ubuntu.com/ubuntu bionic InRelease\n",
            "Get:7 https://developer.download.nvidia.com/compute/cuda/repos/ubuntu1804/x86_64  Packages [1,073 kB]\n",
            "Get:8 http://archive.ubuntu.com/ubuntu bionic-updates InRelease [88.7 kB]\n",
            "Hit:9 http://ppa.launchpad.net/c2d4u.team/c2d4u4.0+/ubuntu bionic InRelease\n",
            "Get:10 http://archive.ubuntu.com/ubuntu bionic-backports InRelease [83.3 kB]\n",
            "Hit:12 http://ppa.launchpad.net/cran/libgit2/ubuntu bionic InRelease\n",
            "Hit:13 http://ppa.launchpad.net/deadsnakes/ppa/ubuntu bionic InRelease\n",
            "Hit:14 http://ppa.launchpad.net/graphics-drivers/ppa/ubuntu bionic InRelease\n",
            "Get:15 http://security.ubuntu.com/ubuntu bionic-security/main amd64 Packages [3,099 kB]\n",
            "Get:16 http://archive.ubuntu.com/ubuntu bionic-updates/universe amd64 Packages [2,342 kB]\n",
            "Get:17 http://security.ubuntu.com/ubuntu bionic-security/universe amd64 Packages [1,567 kB]\n",
            "Get:18 http://security.ubuntu.com/ubuntu bionic-security/restricted amd64 Packages [1,311 kB]\n",
            "Get:19 http://archive.ubuntu.com/ubuntu bionic-updates/restricted amd64 Packages [1,352 kB]\n",
            "Get:20 http://archive.ubuntu.com/ubuntu bionic-updates/main amd64 Packages [3,524 kB]\n",
            "Fetched 14.5 MB in 4s (3,897 kB/s)\n",
            "Reading package lists... Done\n"
          ]
        }
      ]
    },
    {
      "cell_type": "code",
      "source": [
        "!wget https://developer.download.nvidia.com/compute/cuda/repos/ubuntu1804/x86_64/cuda-ubuntu1804.pin"
      ],
      "metadata": {
        "colab": {
          "base_uri": "https://localhost:8080/"
        },
        "id": "urzdmk1dOAB5",
        "outputId": "50cb85fc-01ec-4278-f047-ffa721b8645f"
      },
      "execution_count": 16,
      "outputs": [
        {
          "output_type": "stream",
          "name": "stdout",
          "text": [
            "--2022-12-12 16:44:02--  https://developer.download.nvidia.com/compute/cuda/repos/ubuntu1804/x86_64/cuda-ubuntu1804.pin\n",
            "Resolving developer.download.nvidia.com (developer.download.nvidia.com)... 152.195.19.142\n",
            "Connecting to developer.download.nvidia.com (developer.download.nvidia.com)|152.195.19.142|:443... connected.\n",
            "HTTP request sent, awaiting response... 200 OK\n",
            "Length: 190 [application/octet-stream]\n",
            "Saving to: ‘cuda-ubuntu1804.pin’\n",
            "\n",
            "\rcuda-ubuntu1804.pin   0%[                    ]       0  --.-KB/s               \rcuda-ubuntu1804.pin 100%[===================>]     190  --.-KB/s    in 0s      \n",
            "\n",
            "2022-12-12 16:44:02 (11.2 MB/s) - ‘cuda-ubuntu1804.pin’ saved [190/190]\n",
            "\n"
          ]
        }
      ]
    },
    {
      "cell_type": "code",
      "source": [
        "!sudo mv cuda-ubuntu1804.pin /etc/apt/preferences.d/cuda-repository-pin-600"
      ],
      "metadata": {
        "id": "Nr0nX19hOLYY"
      },
      "execution_count": 17,
      "outputs": []
    },
    {
      "cell_type": "code",
      "source": [
        "!sudo apt-key adv --fetch-keys https://developer.download.nvidia.com/compute/cuda/repos/ubuntu1804/x86_64/7fa2af80.pub"
      ],
      "metadata": {
        "colab": {
          "base_uri": "https://localhost:8080/"
        },
        "id": "dwJ_fGIROQz4",
        "outputId": "cd9e5089-f1bb-43ac-c3f5-0ab1aad7a34f"
      },
      "execution_count": 18,
      "outputs": [
        {
          "output_type": "stream",
          "name": "stdout",
          "text": [
            "Executing: /tmp/apt-key-gpghome.tSomLUJTnp/gpg.1.sh --fetch-keys https://developer.download.nvidia.com/compute/cuda/repos/ubuntu1804/x86_64/7fa2af80.pub\n",
            "gpg: requesting key from 'https://developer.download.nvidia.com/compute/cuda/repos/ubuntu1804/x86_64/7fa2af80.pub'\n",
            "gpg: key F60F4B3D7FA2AF80: \"cudatools <cudatools@nvidia.com>\" not changed\n",
            "gpg: Total number processed: 1\n",
            "gpg:              unchanged: 1\n"
          ]
        }
      ]
    },
    {
      "cell_type": "code",
      "source": [
        "!sudo add-apt-repository \"deb http://developer.download.nvidia.com/compute/cuda/repos/ubuntu1804/x86_64/ /\""
      ],
      "metadata": {
        "colab": {
          "base_uri": "https://localhost:8080/"
        },
        "id": "so41MAt4OTwo",
        "outputId": "a770a631-375f-46b6-c941-049e0bea73df"
      },
      "execution_count": 19,
      "outputs": [
        {
          "output_type": "stream",
          "name": "stdout",
          "text": [
            "\r0% [Working]\r            \rHit:1 http://developer.download.nvidia.com/compute/cuda/repos/ubuntu1804/x86_64  InRelease\n",
            "\r0% [Connecting to archive.ubuntu.com (91.189.91.39)] [Connecting to security.ub\r0% [1 InRelease gpgv 1,581 B] [Waiting for headers] [Connecting to security.ubu\r                                                                               \rHit:2 http://archive.ubuntu.com/ubuntu bionic InRelease\n",
            "Hit:3 https://cloud.r-project.org/bin/linux/ubuntu bionic-cran40/ InRelease\n",
            "Hit:4 http://archive.ubuntu.com/ubuntu bionic-updates InRelease\n",
            "Ign:5 https://developer.download.nvidia.com/compute/machine-learning/repos/ubuntu1804/x86_64  InRelease\n",
            "Hit:6 http://archive.ubuntu.com/ubuntu bionic-backports InRelease\n",
            "Hit:7 https://developer.download.nvidia.com/compute/machine-learning/repos/ubuntu1804/x86_64  Release\n",
            "Get:8 http://security.ubuntu.com/ubuntu bionic-security InRelease [88.7 kB]\n",
            "Hit:9 http://ppa.launchpad.net/c2d4u.team/c2d4u4.0+/ubuntu bionic InRelease\n",
            "Hit:11 http://ppa.launchpad.net/cran/libgit2/ubuntu bionic InRelease\n",
            "Hit:12 http://ppa.launchpad.net/deadsnakes/ppa/ubuntu bionic InRelease\n",
            "Hit:13 http://ppa.launchpad.net/graphics-drivers/ppa/ubuntu bionic InRelease\n",
            "Fetched 88.7 kB in 1s (62.2 kB/s)\n",
            "Reading package lists... Done\n",
            "W: Target Packages (Packages) is configured multiple times in /etc/apt/sources.list:53 and /etc/apt/sources.list.d/cuda-ubuntu1804-x86_64.list:1\n",
            "W: Target Packages (Packages) is configured multiple times in /etc/apt/sources.list:53 and /etc/apt/sources.list.d/cuda-ubuntu1804-x86_64.list:1\n"
          ]
        }
      ]
    },
    {
      "cell_type": "code",
      "source": [
        "!sudo apt-get update"
      ],
      "metadata": {
        "colab": {
          "base_uri": "https://localhost:8080/"
        },
        "id": "wM4DoJQMOZ8p",
        "outputId": "b409ccd0-f76e-45f8-f014-733f7cd4d485"
      },
      "execution_count": 20,
      "outputs": [
        {
          "output_type": "stream",
          "name": "stdout",
          "text": [
            "\r0% [Working]\r            \rHit:1 http://developer.download.nvidia.com/compute/cuda/repos/ubuntu1804/x86_64  InRelease\n",
            "\r0% [Connecting to archive.ubuntu.com] [Connecting to security.ubuntu.com (185.1\r0% [1 InRelease gpgv 1,581 B] [Connecting to archive.ubuntu.com] [Connecting to\r0% [Connecting to archive.ubuntu.com] [Connecting to security.ubuntu.com (185.1\r                                                                               \rHit:2 https://cloud.r-project.org/bin/linux/ubuntu bionic-cran40/ InRelease\n",
            "\r0% [Connecting to archive.ubuntu.com] [Connecting to security.ubuntu.com (185.1\r0% [2 InRelease gpgv 3,626 B] [Connecting to archive.ubuntu.com] [Connecting to\r                                                                               \rIgn:3 https://developer.download.nvidia.com/compute/machine-learning/repos/ubuntu1804/x86_64  InRelease\n",
            "Hit:4 https://developer.download.nvidia.com/compute/machine-learning/repos/ubuntu1804/x86_64  Release\n",
            "Hit:5 http://ppa.launchpad.net/c2d4u.team/c2d4u4.0+/ubuntu bionic InRelease\n",
            "Get:7 http://security.ubuntu.com/ubuntu bionic-security InRelease [88.7 kB]\n",
            "Hit:8 http://archive.ubuntu.com/ubuntu bionic InRelease\n",
            "Hit:9 http://ppa.launchpad.net/cran/libgit2/ubuntu bionic InRelease\n",
            "Get:10 http://archive.ubuntu.com/ubuntu bionic-updates InRelease [88.7 kB]\n",
            "Hit:11 http://ppa.launchpad.net/deadsnakes/ppa/ubuntu bionic InRelease\n",
            "Hit:12 http://ppa.launchpad.net/graphics-drivers/ppa/ubuntu bionic InRelease\n",
            "Get:13 http://archive.ubuntu.com/ubuntu bionic-backports InRelease [83.3 kB]\n",
            "Fetched 261 kB in 2s (155 kB/s)\n",
            "Reading package lists... Done\n",
            "W: Target Packages (Packages) is configured multiple times in /etc/apt/sources.list:53 and /etc/apt/sources.list.d/cuda-ubuntu1804-x86_64.list:1\n",
            "W: Target Packages (Packages) is configured multiple times in /etc/apt/sources.list:53 and /etc/apt/sources.list.d/cuda-ubuntu1804-x86_64.list:1\n"
          ]
        }
      ]
    },
    {
      "cell_type": "code",
      "source": [
        "!sudo apt-get install cuda-10-0"
      ],
      "metadata": {
        "colab": {
          "base_uri": "https://localhost:8080/"
        },
        "id": "bMbx1n-2Odop",
        "outputId": "a6a3ed15-a70f-4114-c2f2-3a79db99f3c1"
      },
      "execution_count": 21,
      "outputs": [
        {
          "output_type": "stream",
          "name": "stdout",
          "text": [
            "Reading package lists... Done\n",
            "Building dependency tree       \n",
            "Reading state information... Done\n",
            "The following package was automatically installed and is no longer required:\n",
            "  libnvidia-common-460\n",
            "Use 'sudo apt autoremove' to remove it.\n",
            "The following additional packages will be installed:\n",
            "  cuda-command-line-tools-10-0 cuda-compiler-10-0 cuda-cublas-10-0\n",
            "  cuda-cublas-dev-10-0 cuda-cudart-10-0 cuda-cudart-dev-10-0 cuda-cufft-10-0\n",
            "  cuda-cufft-dev-10-0 cuda-cuobjdump-10-0 cuda-cupti-10-0 cuda-curand-10-0\n",
            "  cuda-curand-dev-10-0 cuda-cusolver-10-0 cuda-cusolver-dev-10-0\n",
            "  cuda-cusparse-10-0 cuda-cusparse-dev-10-0 cuda-demo-suite-10-0\n",
            "  cuda-documentation-10-0 cuda-driver-dev-10-0 cuda-gdb-10-0\n",
            "  cuda-gpu-library-advisor-10-0 cuda-libraries-10-0 cuda-libraries-dev-10-0\n",
            "  cuda-license-10-0 cuda-memcheck-10-0 cuda-misc-headers-10-0 cuda-npp-10-0\n",
            "  cuda-npp-dev-10-0 cuda-nsight-10-0 cuda-nsight-compute-10-0 cuda-nvcc-10-0\n",
            "  cuda-nvdisasm-10-0 cuda-nvgraph-10-0 cuda-nvgraph-dev-10-0 cuda-nvjpeg-10-0\n",
            "  cuda-nvjpeg-dev-10-0 cuda-nvml-dev-10-0 cuda-nvprof-10-0 cuda-nvprune-10-0\n",
            "  cuda-nvrtc-10-0 cuda-nvrtc-dev-10-0 cuda-nvtx-10-0 cuda-nvvp-10-0\n",
            "  cuda-runtime-10-0 cuda-samples-10-0 cuda-toolkit-10-0 cuda-tools-10-0\n",
            "  cuda-visual-tools-10-0 freeglut3 freeglut3-dev libxi-dev libxmu-dev\n",
            "  libxmu-headers x11proto-input-dev\n",
            "The following NEW packages will be installed:\n",
            "  cuda-10-0 cuda-command-line-tools-10-0 cuda-compiler-10-0 cuda-cublas-10-0\n",
            "  cuda-cublas-dev-10-0 cuda-cudart-10-0 cuda-cudart-dev-10-0 cuda-cufft-10-0\n",
            "  cuda-cufft-dev-10-0 cuda-cuobjdump-10-0 cuda-cupti-10-0 cuda-curand-10-0\n",
            "  cuda-curand-dev-10-0 cuda-cusolver-10-0 cuda-cusolver-dev-10-0\n",
            "  cuda-cusparse-10-0 cuda-cusparse-dev-10-0 cuda-demo-suite-10-0\n",
            "  cuda-documentation-10-0 cuda-driver-dev-10-0 cuda-gdb-10-0\n",
            "  cuda-gpu-library-advisor-10-0 cuda-libraries-10-0 cuda-libraries-dev-10-0\n",
            "  cuda-license-10-0 cuda-memcheck-10-0 cuda-misc-headers-10-0 cuda-npp-10-0\n",
            "  cuda-npp-dev-10-0 cuda-nsight-10-0 cuda-nsight-compute-10-0 cuda-nvcc-10-0\n",
            "  cuda-nvdisasm-10-0 cuda-nvgraph-10-0 cuda-nvgraph-dev-10-0 cuda-nvjpeg-10-0\n",
            "  cuda-nvjpeg-dev-10-0 cuda-nvml-dev-10-0 cuda-nvprof-10-0 cuda-nvprune-10-0\n",
            "  cuda-nvrtc-10-0 cuda-nvrtc-dev-10-0 cuda-nvtx-10-0 cuda-nvvp-10-0\n",
            "  cuda-runtime-10-0 cuda-samples-10-0 cuda-toolkit-10-0 cuda-tools-10-0\n",
            "  cuda-visual-tools-10-0 freeglut3 freeglut3-dev libxi-dev libxmu-dev\n",
            "  libxmu-headers x11proto-input-dev\n",
            "0 upgraded, 55 newly installed, 0 to remove and 35 not upgraded.\n",
            "Need to get 1,366 MB of archives.\n",
            "After this operation, 3,146 MB of additional disk space will be used.\n",
            "Get:1 http://developer.download.nvidia.com/compute/cuda/repos/ubuntu1804/x86_64  cuda-license-10-0 10.0.130-1 [17.6 kB]\n",
            "Get:2 http://developer.download.nvidia.com/compute/cuda/repos/ubuntu1804/x86_64  cuda-misc-headers-10-0 10.0.130-1 [640 kB]\n",
            "Get:3 http://developer.download.nvidia.com/compute/cuda/repos/ubuntu1804/x86_64  cuda-nvcc-10-0 10.0.130-1 [20.0 MB]\n",
            "Get:4 http://archive.ubuntu.com/ubuntu bionic/universe amd64 freeglut3 amd64 2.8.1-3 [73.6 kB]\n",
            "Get:5 http://developer.download.nvidia.com/compute/cuda/repos/ubuntu1804/x86_64  cuda-cuobjdump-10-0 10.0.130-1 [130 kB]\n",
            "Get:6 http://developer.download.nvidia.com/compute/cuda/repos/ubuntu1804/x86_64  cuda-nvprune-10-0 10.0.130-1 [36.8 kB]\n",
            "Get:7 http://developer.download.nvidia.com/compute/cuda/repos/ubuntu1804/x86_64  cuda-compiler-10-0 10.0.130-1 [2,554 B]\n",
            "Get:8 http://developer.download.nvidia.com/compute/cuda/repos/ubuntu1804/x86_64  cuda-nvdisasm-10-0 10.0.130-1 [22.1 MB]\n",
            "Get:9 http://developer.download.nvidia.com/compute/cuda/repos/ubuntu1804/x86_64  cuda-gdb-10-0 10.0.130-1 [2,769 kB]\n",
            "Get:10 http://developer.download.nvidia.com/compute/cuda/repos/ubuntu1804/x86_64  cuda-nvprof-10-0 10.0.130-1 [5,590 kB]\n",
            "Get:11 http://archive.ubuntu.com/ubuntu bionic/universe amd64 freeglut3-dev amd64 2.8.1-3 [124 kB]\n",
            "Get:12 http://developer.download.nvidia.com/compute/cuda/repos/ubuntu1804/x86_64  cuda-memcheck-10-0 10.0.130-1 [139 kB]\n",
            "Get:13 http://developer.download.nvidia.com/compute/cuda/repos/ubuntu1804/x86_64  cuda-cudart-10-0 10.0.130-1 [109 kB]\n",
            "Get:14 http://developer.download.nvidia.com/compute/cuda/repos/ubuntu1804/x86_64  cuda-driver-dev-10-0 10.0.130-1 [12.0 kB]\n",
            "Get:15 http://developer.download.nvidia.com/compute/cuda/repos/ubuntu1804/x86_64  cuda-cudart-dev-10-0 10.0.130-1 [457 kB]\n",
            "Get:16 http://developer.download.nvidia.com/compute/cuda/repos/ubuntu1804/x86_64  cuda-cupti-10-0 10.0.130-1 [1,564 kB]\n",
            "Get:17 http://developer.download.nvidia.com/compute/cuda/repos/ubuntu1804/x86_64  cuda-gpu-library-advisor-10-0 10.0.130-1 [1,003 kB]\n",
            "Get:18 http://developer.download.nvidia.com/compute/cuda/repos/ubuntu1804/x86_64  cuda-nvtx-10-0 10.0.130-1 [39.0 kB]\n",
            "Get:19 http://developer.download.nvidia.com/compute/cuda/repos/ubuntu1804/x86_64  cuda-command-line-tools-10-0 10.0.130-1 [27.0 kB]\n",
            "Get:20 http://developer.download.nvidia.com/compute/cuda/repos/ubuntu1804/x86_64  cuda-nsight-10-0 10.0.130-1 [2,606 B]\n",
            "Get:21 http://developer.download.nvidia.com/compute/cuda/repos/ubuntu1804/x86_64  cuda-nvvp-10-0 10.0.130-1 [2,552 B]\n",
            "Get:22 http://developer.download.nvidia.com/compute/cuda/repos/ubuntu1804/x86_64  cuda-nvrtc-10-0 10.0.130-1 [5,925 kB]\n",
            "Get:23 http://developer.download.nvidia.com/compute/cuda/repos/ubuntu1804/x86_64  cuda-nvrtc-dev-10-0 10.0.130-1 [9,362 B]\n",
            "Get:24 http://developer.download.nvidia.com/compute/cuda/repos/ubuntu1804/x86_64  cuda-cusolver-10-0 10.0.130-1 [38.4 MB]\n",
            "Get:25 http://archive.ubuntu.com/ubuntu bionic/main amd64 libxmu-headers all 2:1.1.2-2 [54.3 kB]\n",
            "Get:26 http://archive.ubuntu.com/ubuntu bionic/main amd64 libxmu-dev amd64 2:1.1.2-2 [49.0 kB]\n",
            "Get:27 http://archive.ubuntu.com/ubuntu bionic/main amd64 x11proto-input-dev all 2018.4-4 [2,620 B]\n",
            "Get:28 http://archive.ubuntu.com/ubuntu bionic/main amd64 libxi-dev amd64 2:1.7.9-1 [186 kB]\n",
            "Get:29 http://developer.download.nvidia.com/compute/cuda/repos/ubuntu1804/x86_64  cuda-cusolver-dev-10-0 10.0.130-1 [13.2 MB]\n",
            "Get:30 http://developer.download.nvidia.com/compute/cuda/repos/ubuntu1804/x86_64  cuda-cublas-10-0 10.0.130-1 [30.3 MB]\n",
            "Get:31 http://developer.download.nvidia.com/compute/cuda/repos/ubuntu1804/x86_64  cuda-cublas-dev-10-0 10.0.130-1 [30.8 MB]\n",
            "Get:32 http://developer.download.nvidia.com/compute/cuda/repos/ubuntu1804/x86_64  cuda-cufft-10-0 10.0.130-1 [60.7 MB]\n",
            "Get:33 http://developer.download.nvidia.com/compute/cuda/repos/ubuntu1804/x86_64  cuda-cufft-dev-10-0 10.0.130-1 [124 MB]\n",
            "Get:34 http://developer.download.nvidia.com/compute/cuda/repos/ubuntu1804/x86_64  cuda-curand-10-0 10.0.130-1 [38.9 MB]\n",
            "Get:35 http://developer.download.nvidia.com/compute/cuda/repos/ubuntu1804/x86_64  cuda-curand-dev-10-0 10.0.130-1 [58.1 MB]\n",
            "Get:36 http://developer.download.nvidia.com/compute/cuda/repos/ubuntu1804/x86_64  cuda-cusparse-10-0 10.0.130-1 [27.1 MB]\n",
            "Get:37 http://developer.download.nvidia.com/compute/cuda/repos/ubuntu1804/x86_64  cuda-cusparse-dev-10-0 10.0.130-1 [27.2 MB]\n",
            "Get:38 http://developer.download.nvidia.com/compute/cuda/repos/ubuntu1804/x86_64  cuda-npp-10-0 10.0.130-1 [54.2 MB]\n",
            "Get:39 http://developer.download.nvidia.com/compute/cuda/repos/ubuntu1804/x86_64  cuda-npp-dev-10-0 10.0.130-1 [55.0 MB]\n",
            "Get:40 http://developer.download.nvidia.com/compute/cuda/repos/ubuntu1804/x86_64  cuda-nvml-dev-10-0 10.0.130-1 [51.6 kB]\n",
            "Get:41 http://developer.download.nvidia.com/compute/cuda/repos/ubuntu1804/x86_64  cuda-nvgraph-10-0 10.0.130-1 [12.8 MB]\n",
            "Get:42 http://developer.download.nvidia.com/compute/cuda/repos/ubuntu1804/x86_64  cuda-nvgraph-dev-10-0 10.0.130-1 [33.4 MB]\n",
            "Get:43 http://developer.download.nvidia.com/compute/cuda/repos/ubuntu1804/x86_64  cuda-nvjpeg-10-0 10.0.130.1-1 [1,302 kB]\n",
            "Get:44 http://developer.download.nvidia.com/compute/cuda/repos/ubuntu1804/x86_64  cuda-nvjpeg-dev-10-0 10.0.130.1-1 [1,086 kB]\n",
            "Get:45 http://developer.download.nvidia.com/compute/cuda/repos/ubuntu1804/x86_64  cuda-nsight-compute-10-0 10.0.130-1 [188 MB]\n",
            "Get:46 http://developer.download.nvidia.com/compute/cuda/repos/ubuntu1804/x86_64  cuda-visual-tools-10-0 10.0.130-1 [394 MB]\n",
            "Get:47 http://developer.download.nvidia.com/compute/cuda/repos/ubuntu1804/x86_64  cuda-tools-10-0 10.0.130-1 [2,514 B]\n",
            "Get:48 http://developer.download.nvidia.com/compute/cuda/repos/ubuntu1804/x86_64  cuda-samples-10-0 10.0.130-1 [61.5 MB]\n",
            "Get:49 http://developer.download.nvidia.com/compute/cuda/repos/ubuntu1804/x86_64  cuda-documentation-10-0 10.0.130-1 [52.0 MB]\n",
            "Get:50 http://developer.download.nvidia.com/compute/cuda/repos/ubuntu1804/x86_64  cuda-libraries-dev-10-0 10.0.130-1 [2,622 B]\n",
            "Get:51 http://developer.download.nvidia.com/compute/cuda/repos/ubuntu1804/x86_64  cuda-toolkit-10-0 10.0.130-1 [2,850 B]\n",
            "Get:52 http://developer.download.nvidia.com/compute/cuda/repos/ubuntu1804/x86_64  cuda-libraries-10-0 10.0.130-1 [2,602 B]\n",
            "Get:53 http://developer.download.nvidia.com/compute/cuda/repos/ubuntu1804/x86_64  cuda-runtime-10-0 10.0.130-1 [2,556 B]\n",
            "Get:54 http://developer.download.nvidia.com/compute/cuda/repos/ubuntu1804/x86_64  cuda-demo-suite-10-0 10.0.130-1 [3,868 kB]\n",
            "Get:55 http://developer.download.nvidia.com/compute/cuda/repos/ubuntu1804/x86_64  cuda-10-0 10.0.130-1 [2,578 B]\n",
            "Fetched 1,366 MB in 28s (49.4 MB/s)\n",
            "debconf: unable to initialize frontend: Dialog\n",
            "debconf: (No usable dialog-like program is installed, so the dialog based frontend cannot be used. at /usr/share/perl5/Debconf/FrontEnd/Dialog.pm line 76, <> line 55.)\n",
            "debconf: falling back to frontend: Readline\n",
            "debconf: unable to initialize frontend: Readline\n",
            "debconf: (This frontend requires a controlling tty.)\n",
            "debconf: falling back to frontend: Teletype\n",
            "dpkg-preconfigure: unable to re-open stdin: \n",
            "Selecting previously unselected package cuda-license-10-0.\n",
            "(Reading database ... 124019 files and directories currently installed.)\n",
            "Preparing to unpack .../00-cuda-license-10-0_10.0.130-1_amd64.deb ...\n",
            "Unpacking cuda-license-10-0 (10.0.130-1) ...\n",
            "Selecting previously unselected package cuda-misc-headers-10-0.\n",
            "Preparing to unpack .../01-cuda-misc-headers-10-0_10.0.130-1_amd64.deb ...\n",
            "Unpacking cuda-misc-headers-10-0 (10.0.130-1) ...\n",
            "Selecting previously unselected package cuda-nvcc-10-0.\n",
            "Preparing to unpack .../02-cuda-nvcc-10-0_10.0.130-1_amd64.deb ...\n",
            "Unpacking cuda-nvcc-10-0 (10.0.130-1) ...\n",
            "Selecting previously unselected package cuda-cuobjdump-10-0.\n",
            "Preparing to unpack .../03-cuda-cuobjdump-10-0_10.0.130-1_amd64.deb ...\n",
            "Unpacking cuda-cuobjdump-10-0 (10.0.130-1) ...\n",
            "Selecting previously unselected package cuda-nvprune-10-0.\n",
            "Preparing to unpack .../04-cuda-nvprune-10-0_10.0.130-1_amd64.deb ...\n",
            "Unpacking cuda-nvprune-10-0 (10.0.130-1) ...\n",
            "Selecting previously unselected package cuda-compiler-10-0.\n",
            "Preparing to unpack .../05-cuda-compiler-10-0_10.0.130-1_amd64.deb ...\n",
            "Unpacking cuda-compiler-10-0 (10.0.130-1) ...\n",
            "Selecting previously unselected package cuda-nvdisasm-10-0.\n",
            "Preparing to unpack .../06-cuda-nvdisasm-10-0_10.0.130-1_amd64.deb ...\n",
            "Unpacking cuda-nvdisasm-10-0 (10.0.130-1) ...\n",
            "Selecting previously unselected package cuda-gdb-10-0.\n",
            "Preparing to unpack .../07-cuda-gdb-10-0_10.0.130-1_amd64.deb ...\n",
            "Unpacking cuda-gdb-10-0 (10.0.130-1) ...\n",
            "Selecting previously unselected package cuda-nvprof-10-0.\n",
            "Preparing to unpack .../08-cuda-nvprof-10-0_10.0.130-1_amd64.deb ...\n",
            "Unpacking cuda-nvprof-10-0 (10.0.130-1) ...\n",
            "Selecting previously unselected package cuda-memcheck-10-0.\n",
            "Preparing to unpack .../09-cuda-memcheck-10-0_10.0.130-1_amd64.deb ...\n",
            "Unpacking cuda-memcheck-10-0 (10.0.130-1) ...\n",
            "Selecting previously unselected package cuda-cudart-10-0.\n",
            "Preparing to unpack .../10-cuda-cudart-10-0_10.0.130-1_amd64.deb ...\n",
            "Unpacking cuda-cudart-10-0 (10.0.130-1) ...\n",
            "Selecting previously unselected package cuda-driver-dev-10-0.\n",
            "Preparing to unpack .../11-cuda-driver-dev-10-0_10.0.130-1_amd64.deb ...\n",
            "Unpacking cuda-driver-dev-10-0 (10.0.130-1) ...\n",
            "Selecting previously unselected package cuda-cudart-dev-10-0.\n",
            "Preparing to unpack .../12-cuda-cudart-dev-10-0_10.0.130-1_amd64.deb ...\n",
            "Unpacking cuda-cudart-dev-10-0 (10.0.130-1) ...\n",
            "Selecting previously unselected package cuda-cupti-10-0.\n",
            "Preparing to unpack .../13-cuda-cupti-10-0_10.0.130-1_amd64.deb ...\n",
            "Unpacking cuda-cupti-10-0 (10.0.130-1) ...\n",
            "Selecting previously unselected package cuda-gpu-library-advisor-10-0.\n",
            "Preparing to unpack .../14-cuda-gpu-library-advisor-10-0_10.0.130-1_amd64.deb ...\n",
            "Unpacking cuda-gpu-library-advisor-10-0 (10.0.130-1) ...\n",
            "Selecting previously unselected package cuda-nvtx-10-0.\n",
            "Preparing to unpack .../15-cuda-nvtx-10-0_10.0.130-1_amd64.deb ...\n",
            "Unpacking cuda-nvtx-10-0 (10.0.130-1) ...\n",
            "Selecting previously unselected package cuda-command-line-tools-10-0.\n",
            "Preparing to unpack .../16-cuda-command-line-tools-10-0_10.0.130-1_amd64.deb ...\n",
            "Unpacking cuda-command-line-tools-10-0 (10.0.130-1) ...\n",
            "Selecting previously unselected package cuda-nsight-10-0.\n",
            "Preparing to unpack .../17-cuda-nsight-10-0_10.0.130-1_amd64.deb ...\n",
            "Unpacking cuda-nsight-10-0 (10.0.130-1) ...\n",
            "Selecting previously unselected package cuda-nvvp-10-0.\n",
            "Preparing to unpack .../18-cuda-nvvp-10-0_10.0.130-1_amd64.deb ...\n",
            "Unpacking cuda-nvvp-10-0 (10.0.130-1) ...\n",
            "Selecting previously unselected package cuda-nvrtc-10-0.\n",
            "Preparing to unpack .../19-cuda-nvrtc-10-0_10.0.130-1_amd64.deb ...\n",
            "Unpacking cuda-nvrtc-10-0 (10.0.130-1) ...\n",
            "Selecting previously unselected package cuda-nvrtc-dev-10-0.\n",
            "Preparing to unpack .../20-cuda-nvrtc-dev-10-0_10.0.130-1_amd64.deb ...\n",
            "Unpacking cuda-nvrtc-dev-10-0 (10.0.130-1) ...\n",
            "Selecting previously unselected package cuda-cusolver-10-0.\n",
            "Preparing to unpack .../21-cuda-cusolver-10-0_10.0.130-1_amd64.deb ...\n",
            "Unpacking cuda-cusolver-10-0 (10.0.130-1) ...\n",
            "Selecting previously unselected package cuda-cusolver-dev-10-0.\n",
            "Preparing to unpack .../22-cuda-cusolver-dev-10-0_10.0.130-1_amd64.deb ...\n",
            "Unpacking cuda-cusolver-dev-10-0 (10.0.130-1) ...\n",
            "Selecting previously unselected package cuda-cublas-10-0.\n",
            "Preparing to unpack .../23-cuda-cublas-10-0_10.0.130-1_amd64.deb ...\n",
            "Unpacking cuda-cublas-10-0 (10.0.130-1) ...\n",
            "Selecting previously unselected package cuda-cublas-dev-10-0.\n",
            "Preparing to unpack .../24-cuda-cublas-dev-10-0_10.0.130-1_amd64.deb ...\n",
            "Unpacking cuda-cublas-dev-10-0 (10.0.130-1) ...\n",
            "Selecting previously unselected package cuda-cufft-10-0.\n",
            "Preparing to unpack .../25-cuda-cufft-10-0_10.0.130-1_amd64.deb ...\n",
            "Unpacking cuda-cufft-10-0 (10.0.130-1) ...\n",
            "Selecting previously unselected package cuda-cufft-dev-10-0.\n",
            "Preparing to unpack .../26-cuda-cufft-dev-10-0_10.0.130-1_amd64.deb ...\n",
            "Unpacking cuda-cufft-dev-10-0 (10.0.130-1) ...\n",
            "Selecting previously unselected package cuda-curand-10-0.\n",
            "Preparing to unpack .../27-cuda-curand-10-0_10.0.130-1_amd64.deb ...\n",
            "Unpacking cuda-curand-10-0 (10.0.130-1) ...\n",
            "Selecting previously unselected package cuda-curand-dev-10-0.\n",
            "Preparing to unpack .../28-cuda-curand-dev-10-0_10.0.130-1_amd64.deb ...\n",
            "Unpacking cuda-curand-dev-10-0 (10.0.130-1) ...\n",
            "Selecting previously unselected package cuda-cusparse-10-0.\n",
            "Preparing to unpack .../29-cuda-cusparse-10-0_10.0.130-1_amd64.deb ...\n",
            "Unpacking cuda-cusparse-10-0 (10.0.130-1) ...\n",
            "Selecting previously unselected package cuda-cusparse-dev-10-0.\n",
            "Preparing to unpack .../30-cuda-cusparse-dev-10-0_10.0.130-1_amd64.deb ...\n",
            "Unpacking cuda-cusparse-dev-10-0 (10.0.130-1) ...\n",
            "Selecting previously unselected package cuda-npp-10-0.\n",
            "Preparing to unpack .../31-cuda-npp-10-0_10.0.130-1_amd64.deb ...\n",
            "Unpacking cuda-npp-10-0 (10.0.130-1) ...\n",
            "Selecting previously unselected package cuda-npp-dev-10-0.\n",
            "Preparing to unpack .../32-cuda-npp-dev-10-0_10.0.130-1_amd64.deb ...\n",
            "Unpacking cuda-npp-dev-10-0 (10.0.130-1) ...\n",
            "Selecting previously unselected package cuda-nvml-dev-10-0.\n",
            "Preparing to unpack .../33-cuda-nvml-dev-10-0_10.0.130-1_amd64.deb ...\n",
            "Unpacking cuda-nvml-dev-10-0 (10.0.130-1) ...\n",
            "Selecting previously unselected package cuda-nvgraph-10-0.\n",
            "Preparing to unpack .../34-cuda-nvgraph-10-0_10.0.130-1_amd64.deb ...\n",
            "Unpacking cuda-nvgraph-10-0 (10.0.130-1) ...\n",
            "Selecting previously unselected package cuda-nvgraph-dev-10-0.\n",
            "Preparing to unpack .../35-cuda-nvgraph-dev-10-0_10.0.130-1_amd64.deb ...\n",
            "Unpacking cuda-nvgraph-dev-10-0 (10.0.130-1) ...\n",
            "Selecting previously unselected package cuda-nvjpeg-10-0.\n",
            "Preparing to unpack .../36-cuda-nvjpeg-10-0_10.0.130.1-1_amd64.deb ...\n",
            "Unpacking cuda-nvjpeg-10-0 (10.0.130.1-1) ...\n",
            "Selecting previously unselected package cuda-nvjpeg-dev-10-0.\n",
            "Preparing to unpack .../37-cuda-nvjpeg-dev-10-0_10.0.130.1-1_amd64.deb ...\n",
            "Unpacking cuda-nvjpeg-dev-10-0 (10.0.130.1-1) ...\n",
            "Selecting previously unselected package cuda-nsight-compute-10-0.\n",
            "Preparing to unpack .../38-cuda-nsight-compute-10-0_10.0.130-1_amd64.deb ...\n",
            "Unpacking cuda-nsight-compute-10-0 (10.0.130-1) ...\n",
            "Selecting previously unselected package cuda-visual-tools-10-0.\n",
            "Preparing to unpack .../39-cuda-visual-tools-10-0_10.0.130-1_amd64.deb ...\n",
            "Unpacking cuda-visual-tools-10-0 (10.0.130-1) ...\n",
            "Selecting previously unselected package cuda-tools-10-0.\n",
            "Preparing to unpack .../40-cuda-tools-10-0_10.0.130-1_amd64.deb ...\n",
            "Unpacking cuda-tools-10-0 (10.0.130-1) ...\n",
            "Selecting previously unselected package freeglut3:amd64.\n",
            "Preparing to unpack .../41-freeglut3_2.8.1-3_amd64.deb ...\n",
            "Unpacking freeglut3:amd64 (2.8.1-3) ...\n",
            "Selecting previously unselected package freeglut3-dev:amd64.\n",
            "Preparing to unpack .../42-freeglut3-dev_2.8.1-3_amd64.deb ...\n",
            "Unpacking freeglut3-dev:amd64 (2.8.1-3) ...\n",
            "Selecting previously unselected package libxmu-headers.\n",
            "Preparing to unpack .../43-libxmu-headers_2%3a1.1.2-2_all.deb ...\n",
            "Unpacking libxmu-headers (2:1.1.2-2) ...\n",
            "Selecting previously unselected package libxmu-dev:amd64.\n",
            "Preparing to unpack .../44-libxmu-dev_2%3a1.1.2-2_amd64.deb ...\n",
            "Unpacking libxmu-dev:amd64 (2:1.1.2-2) ...\n",
            "Selecting previously unselected package x11proto-input-dev.\n",
            "Preparing to unpack .../45-x11proto-input-dev_2018.4-4_all.deb ...\n",
            "Unpacking x11proto-input-dev (2018.4-4) ...\n",
            "Selecting previously unselected package libxi-dev:amd64.\n",
            "Preparing to unpack .../46-libxi-dev_2%3a1.7.9-1_amd64.deb ...\n",
            "Unpacking libxi-dev:amd64 (2:1.7.9-1) ...\n",
            "Selecting previously unselected package cuda-samples-10-0.\n",
            "Preparing to unpack .../47-cuda-samples-10-0_10.0.130-1_amd64.deb ...\n",
            "Unpacking cuda-samples-10-0 (10.0.130-1) ...\n",
            "Selecting previously unselected package cuda-documentation-10-0.\n",
            "Preparing to unpack .../48-cuda-documentation-10-0_10.0.130-1_amd64.deb ...\n",
            "Unpacking cuda-documentation-10-0 (10.0.130-1) ...\n",
            "Selecting previously unselected package cuda-libraries-dev-10-0.\n",
            "Preparing to unpack .../49-cuda-libraries-dev-10-0_10.0.130-1_amd64.deb ...\n",
            "Unpacking cuda-libraries-dev-10-0 (10.0.130-1) ...\n",
            "Selecting previously unselected package cuda-toolkit-10-0.\n",
            "Preparing to unpack .../50-cuda-toolkit-10-0_10.0.130-1_amd64.deb ...\n",
            "Unpacking cuda-toolkit-10-0 (10.0.130-1) ...\n",
            "Selecting previously unselected package cuda-libraries-10-0.\n",
            "Preparing to unpack .../51-cuda-libraries-10-0_10.0.130-1_amd64.deb ...\n",
            "Unpacking cuda-libraries-10-0 (10.0.130-1) ...\n",
            "Selecting previously unselected package cuda-runtime-10-0.\n",
            "Preparing to unpack .../52-cuda-runtime-10-0_10.0.130-1_amd64.deb ...\n",
            "Unpacking cuda-runtime-10-0 (10.0.130-1) ...\n",
            "Selecting previously unselected package cuda-demo-suite-10-0.\n",
            "Preparing to unpack .../53-cuda-demo-suite-10-0_10.0.130-1_amd64.deb ...\n",
            "Unpacking cuda-demo-suite-10-0 (10.0.130-1) ...\n",
            "Selecting previously unselected package cuda-10-0.\n",
            "Preparing to unpack .../54-cuda-10-0_10.0.130-1_amd64.deb ...\n",
            "Unpacking cuda-10-0 (10.0.130-1) ...\n",
            "Setting up freeglut3:amd64 (2.8.1-3) ...\n",
            "Setting up libxmu-headers (2:1.1.2-2) ...\n",
            "Setting up cuda-license-10-0 (10.0.130-1) ...\n",
            "*** LICENSE AGREEMENT ***\n",
            "By using this software you agree to fully comply with the terms and \n",
            "conditions of the EULA (End User License Agreement). The EULA is located\n",
            "at /usr/local/cuda-10.0/doc/EULA.txt. The EULA can also be found at\n",
            "http://docs.nvidia.com/cuda/eula/index.html. If you do not agree to the\n",
            "terms and conditions of the EULA, do not use the software.\n",
            "\n",
            "Setting up cuda-nsight-10-0 (10.0.130-1) ...\n",
            "Setting up cuda-nvdisasm-10-0 (10.0.130-1) ...\n",
            "Setting up cuda-nvml-dev-10-0 (10.0.130-1) ...\n",
            "Setting up cuda-nvprof-10-0 (10.0.130-1) ...\n",
            "Setting up cuda-nvrtc-10-0 (10.0.130-1) ...\n",
            "Setting up cuda-nvtx-10-0 (10.0.130-1) ...\n",
            "Setting up freeglut3-dev:amd64 (2.8.1-3) ...\n",
            "Setting up x11proto-input-dev (2018.4-4) ...\n",
            "Setting up cuda-nvgraph-10-0 (10.0.130-1) ...\n",
            "Setting up cuda-nvprune-10-0 (10.0.130-1) ...\n",
            "Setting up cuda-cusparse-10-0 (10.0.130-1) ...\n",
            "Setting up cuda-cuobjdump-10-0 (10.0.130-1) ...\n",
            "Setting up cuda-nvjpeg-10-0 (10.0.130.1-1) ...\n",
            "Setting up cuda-gdb-10-0 (10.0.130-1) ...\n",
            "Setting up libxmu-dev:amd64 (2:1.1.2-2) ...\n",
            "Setting up cuda-nvjpeg-dev-10-0 (10.0.130.1-1) ...\n",
            "Setting up cuda-cufft-10-0 (10.0.130-1) ...\n",
            "Setting up cuda-nsight-compute-10-0 (10.0.130-1) ...\n",
            "Setting up cuda-cudart-10-0 (10.0.130-1) ...\n",
            "Setting up cuda-npp-10-0 (10.0.130-1) ...\n",
            "Setting up cuda-cufft-dev-10-0 (10.0.130-1) ...\n",
            "Setting up cuda-cusolver-10-0 (10.0.130-1) ...\n",
            "Setting up cuda-misc-headers-10-0 (10.0.130-1) ...\n",
            "Setting up cuda-nvvp-10-0 (10.0.130-1) ...\n",
            "Setting up cuda-curand-10-0 (10.0.130-1) ...\n",
            "Setting up cuda-driver-dev-10-0 (10.0.130-1) ...\n",
            "Setting up cuda-gpu-library-advisor-10-0 (10.0.130-1) ...\n",
            "Setting up cuda-cublas-10-0 (10.0.130-1) ...\n",
            "Setting up cuda-nvgraph-dev-10-0 (10.0.130-1) ...\n",
            "Setting up cuda-cudart-dev-10-0 (10.0.130-1) ...\n",
            "Setting up cuda-memcheck-10-0 (10.0.130-1) ...\n",
            "Setting up cuda-nvrtc-dev-10-0 (10.0.130-1) ...\n",
            "Setting up cuda-npp-dev-10-0 (10.0.130-1) ...\n",
            "Setting up libxi-dev:amd64 (2:1.7.9-1) ...\n",
            "Setting up cuda-nvcc-10-0 (10.0.130-1) ...\n",
            "Setting up cuda-curand-dev-10-0 (10.0.130-1) ...\n",
            "Setting up cuda-cusparse-dev-10-0 (10.0.130-1) ...\n",
            "Setting up cuda-cusolver-dev-10-0 (10.0.130-1) ...\n",
            "Setting up cuda-cublas-dev-10-0 (10.0.130-1) ...\n",
            "Setting up cuda-libraries-dev-10-0 (10.0.130-1) ...\n",
            "Setting up cuda-samples-10-0 (10.0.130-1) ...\n",
            "Setting up cuda-cupti-10-0 (10.0.130-1) ...\n",
            "Setting up cuda-command-line-tools-10-0 (10.0.130-1) ...\n",
            "Setting up cuda-visual-tools-10-0 (10.0.130-1) ...\n",
            "Setting up cuda-libraries-10-0 (10.0.130-1) ...\n",
            "Setting up cuda-documentation-10-0 (10.0.130-1) ...\n",
            "Setting up cuda-compiler-10-0 (10.0.130-1) ...\n",
            "Setting up cuda-runtime-10-0 (10.0.130-1) ...\n",
            "Setting up cuda-tools-10-0 (10.0.130-1) ...\n",
            "Setting up cuda-demo-suite-10-0 (10.0.130-1) ...\n",
            "Setting up cuda-toolkit-10-0 (10.0.130-1) ...\n",
            "Setting up cuda-10-0 (10.0.130-1) ...\n",
            "Processing triggers for man-db (2.8.3-2ubuntu0.1) ...\n",
            "Processing triggers for libc-bin (2.27-3ubuntu1.6) ...\n",
            "W: Target Packages (Packages) is configured multiple times in /etc/apt/sources.list:53 and /etc/apt/sources.list.d/cuda-ubuntu1804-x86_64.list:1\n"
          ]
        }
      ]
    },
    {
      "cell_type": "code",
      "source": [
        "!git clone https://github.com/justinpinkney/stylegan2"
      ],
      "metadata": {
        "colab": {
          "base_uri": "https://localhost:8080/"
        },
        "id": "yzXZmbtrOh-5",
        "outputId": "fb3581d5-648f-4e3e-b232-e08ecc915094"
      },
      "execution_count": 1,
      "outputs": [
        {
          "output_type": "stream",
          "name": "stdout",
          "text": [
            "fatal: destination path 'stylegan2' already exists and is not an empty directory.\n"
          ]
        }
      ]
    },
    {
      "cell_type": "code",
      "source": [
        "cd stylegan2/"
      ],
      "metadata": {
        "colab": {
          "base_uri": "https://localhost:8080/"
        },
        "id": "oesUPDl1PaEZ",
        "outputId": "78e75576-7dc2-47e4-e898-94cadba93e43"
      },
      "execution_count": 2,
      "outputs": [
        {
          "output_type": "stream",
          "name": "stdout",
          "text": [
            "/content/stylegan2\n"
          ]
        }
      ]
    },
    {
      "cell_type": "code",
      "source": [
        "!nvcc test_nvcc.cu -o test_nvcc -run"
      ],
      "metadata": {
        "colab": {
          "base_uri": "https://localhost:8080/"
        },
        "id": "RXwOwxcyPeVo",
        "outputId": "97e2146d-7349-465e-f589-17f8744c844b"
      },
      "execution_count": 3,
      "outputs": [
        {
          "output_type": "stream",
          "name": "stdout",
          "text": [
            "CPU says hello.\n",
            "cudaErrorNoDevice: no CUDA-capable device is detected\n"
          ]
        }
      ]
    },
    {
      "cell_type": "code",
      "source": [],
      "metadata": {
        "id": "GP5os4AAPhhI"
      },
      "execution_count": null,
      "outputs": []
    }
  ]
}